{
  "nbformat": 4,
  "nbformat_minor": 0,
  "metadata": {
    "colab": {
      "name": "Crehana_PLN_Twitter.ipynb",
      "provenance": [],
      "authorship_tag": "ABX9TyNjG/bqeVM5o9BDMzT3k24U",
      "include_colab_link": true
    },
    "kernelspec": {
      "name": "python3",
      "display_name": "Python 3"
    },
    "language_info": {
      "name": "python"
    }
  },
  "cells": [
    {
      "cell_type": "markdown",
      "metadata": {
        "id": "view-in-github",
        "colab_type": "text"
      },
      "source": [
        "<a href=\"https://colab.research.google.com/github/fridaruh/Curso_Intro_AI_Crehana/blob/master/Crehana_PLN_Twitter.ipynb\" target=\"_parent\"><img src=\"https://colab.research.google.com/assets/colab-badge.svg\" alt=\"Open In Colab\"/></a>"
      ]
    },
    {
      "cell_type": "code",
      "metadata": {
        "id": "IRYIjzulRSZh"
      },
      "source": [
        "consumer_key = ''\n",
        "consumer_secret = ''\n",
        "access_token = ''\n",
        "access_token_secret = ''"
      ],
      "execution_count": null,
      "outputs": []
    },
    {
      "cell_type": "code",
      "metadata": {
        "id": "YozKgMdSTY3p"
      },
      "source": [
        "import tweepy\n",
        "import pandas as pd"
      ],
      "execution_count": null,
      "outputs": []
    },
    {
      "cell_type": "code",
      "metadata": {
        "id": "TPJ6W8pFVK_Z"
      },
      "source": [
        "auth = tweepy.OAuthHandler(consumer_key, consumer_secret)\n",
        "auth.set_access_token(access_token, access_token_secret)"
      ],
      "execution_count": null,
      "outputs": []
    },
    {
      "cell_type": "code",
      "metadata": {
        "id": "7Ae9wkKmVhoi"
      },
      "source": [
        "api = tweepy.API(auth)"
      ],
      "execution_count": null,
      "outputs": []
    },
    {
      "cell_type": "code",
      "metadata": {
        "id": "kccSkR44VlJO"
      },
      "source": [
        "twitter_users = []\n",
        "tweet_time = []\n",
        "tweet_string = []\n",
        "\n",
        "for tweet in tweepy.Cursor(api.search, q='black friday', count= 1000).items(1000):\n",
        "  if (not tweet.retweeted) and ('RT @' not in tweet.text):\n",
        "    if tweet.lang == 'es':\n",
        "      twitter_users.append(tweet.user.name)\n",
        "      tweet_time.append(tweet.created_at)\n",
        "      tweet_string.append(tweet.text)"
      ],
      "execution_count": null,
      "outputs": []
    },
    {
      "cell_type": "markdown",
      "metadata": {
        "id": "KLbri4PbaSgA"
      },
      "source": [
        "Ejemplo cambiando parámetros:"
      ]
    },
    {
      "cell_type": "code",
      "metadata": {
        "id": "eAZ_GlGWaNTt"
      },
      "source": [
        "twitter_users_2 = []\n",
        "tweet_time_2 = []\n",
        "tweet_string_2 = []\n",
        "\n",
        "for tweet in tweepy.Cursor(api.search, q='@Fridaruh', count= 1000).items(1000):\n",
        "  if (not tweet.retweeted) and ('RT @' not in tweet.text):\n",
        "    if tweet.lang == 'en':\n",
        "      twitter_users_2.append(tweet.user.name)\n",
        "      tweet_time_2.append(tweet.created_at)\n",
        "      tweet_string_2.append(tweet.text)"
      ],
      "execution_count": null,
      "outputs": []
    },
    {
      "cell_type": "code",
      "metadata": {
        "id": "WPt62G41YJtc"
      },
      "source": [
        "df = pd.DataFrame({'name':twitter_users, 'time':tweet_time, 'tweet':tweet_string })"
      ],
      "execution_count": null,
      "outputs": []
    },
    {
      "cell_type": "markdown",
      "metadata": {
        "id": "p4zEHo8wZUFG"
      },
      "source": [
        "Exportamos el dataframe a un archivo csv"
      ]
    },
    {
      "cell_type": "code",
      "metadata": {
        "id": "qz8TG4SbY6co"
      },
      "source": [
        "df.to_csv('tweets_black_friday.csv')"
      ],
      "execution_count": null,
      "outputs": []
    },
    {
      "cell_type": "markdown",
      "metadata": {
        "id": "YNtf59igZYK4"
      },
      "source": [
        "En caso de que no tengas acceso a la API, tendrás que ejecutar esta celda donde importas el archivo csv"
      ]
    },
    {
      "cell_type": "code",
      "metadata": {
        "id": "A4zPEj3qY-Te"
      },
      "source": [
        "df = pd.read_csv('/content/tweets_black_friday.csv')"
      ],
      "execution_count": null,
      "outputs": []
    },
    {
      "cell_type": "code",
      "metadata": {
        "colab": {
          "base_uri": "https://localhost:8080/",
          "height": 206
        },
        "id": "OKtSg-yiZrZy",
        "outputId": "3377d7f0-b1db-42a2-96bd-0be91bc87dc5"
      },
      "source": [
        "df.head()"
      ],
      "execution_count": null,
      "outputs": [
        {
          "output_type": "execute_result",
          "data": {
            "text/html": [
              "<div>\n",
              "<style scoped>\n",
              "    .dataframe tbody tr th:only-of-type {\n",
              "        vertical-align: middle;\n",
              "    }\n",
              "\n",
              "    .dataframe tbody tr th {\n",
              "        vertical-align: top;\n",
              "    }\n",
              "\n",
              "    .dataframe thead th {\n",
              "        text-align: right;\n",
              "    }\n",
              "</style>\n",
              "<table border=\"1\" class=\"dataframe\">\n",
              "  <thead>\n",
              "    <tr style=\"text-align: right;\">\n",
              "      <th></th>\n",
              "      <th>name</th>\n",
              "      <th>time</th>\n",
              "      <th>tweet</th>\n",
              "    </tr>\n",
              "  </thead>\n",
              "  <tbody>\n",
              "    <tr>\n",
              "      <th>0</th>\n",
              "      <td>Marc</td>\n",
              "      <td>2021-11-24 19:16:19</td>\n",
              "      <td>Ah, que el que compres en black friday t’ho co...</td>\n",
              "    </tr>\n",
              "    <tr>\n",
              "      <th>1</th>\n",
              "      <td>rodríguez🇪🇸</td>\n",
              "      <td>2021-11-24 19:16:19</td>\n",
              "      <td>estoy con 70€ menos y solo llevamos 15 minutos...</td>\n",
              "    </tr>\n",
              "    <tr>\n",
              "      <th>2</th>\n",
              "      <td>Ajuntament de Sueca</td>\n",
              "      <td>2021-11-24 19:16:00</td>\n",
              "      <td>💉 Punto de vacunación masiva sin cita previa e...</td>\n",
              "    </tr>\n",
              "    <tr>\n",
              "      <th>3</th>\n",
              "      <td>Ocio Central</td>\n",
              "      <td>2021-11-24 19:15:58</td>\n",
              "      <td>⬛◼️◾BLACK FRIDAY◾◼️⬛\\n\\n🛒Sólo en tienda física...</td>\n",
              "    </tr>\n",
              "    <tr>\n",
              "      <th>4</th>\n",
              "      <td>Francis</td>\n",
              "      <td>2021-11-24 19:15:55</td>\n",
              "      <td>@SantiRosell Eso decía yo. Pero como está el B...</td>\n",
              "    </tr>\n",
              "  </tbody>\n",
              "</table>\n",
              "</div>"
            ],
            "text/plain": [
              "                  name  ...                                              tweet\n",
              "0                 Marc  ...  Ah, que el que compres en black friday t’ho co...\n",
              "1          rodríguez🇪🇸  ...  estoy con 70€ menos y solo llevamos 15 minutos...\n",
              "2  Ajuntament de Sueca  ...  💉 Punto de vacunación masiva sin cita previa e...\n",
              "3         Ocio Central  ...  ⬛◼️◾BLACK FRIDAY◾◼️⬛\\n\\n🛒Sólo en tienda física...\n",
              "4              Francis  ...  @SantiRosell Eso decía yo. Pero como está el B...\n",
              "\n",
              "[5 rows x 3 columns]"
            ]
          },
          "metadata": {},
          "execution_count": 9
        }
      ]
    },
    {
      "cell_type": "markdown",
      "metadata": {
        "id": "hR2rjfqjZ7-8"
      },
      "source": [
        "Convierto los tweets a listas"
      ]
    },
    {
      "cell_type": "code",
      "metadata": {
        "id": "aZ6Q5lpQZstP"
      },
      "source": [
        "data = df['tweet'].to_list()"
      ],
      "execution_count": null,
      "outputs": []
    },
    {
      "cell_type": "code",
      "metadata": {
        "id": "qhr6KWj9aBpl"
      },
      "source": [
        "data"
      ],
      "execution_count": null,
      "outputs": []
    },
    {
      "cell_type": "code",
      "metadata": {
        "id": "YERcfSWNaCLW"
      },
      "source": [
        "pattern = r'''(?x)                  # Flag para iniciar el modo verbose\n",
        "              (?:[A-Z]\\.)+          # Hace match con abreviaciones como U.S.A.\n",
        "              | \\w+(?:-\\w+)*        # Hace match con palabras que pueden tener un guión interno\n",
        "              | \\$?\\d+(?:\\.\\d+)?%?  # Hace match con dinero o porcentajes como $15.5 o 100%\n",
        "              | \\.\\.\\.              # Hace match con puntos suspensivos\n",
        "              | [][.,;\"'?():-_`]    # Hace match con signos de puntuación\n",
        "'''"
      ],
      "execution_count": null,
      "outputs": []
    },
    {
      "cell_type": "code",
      "metadata": {
        "colab": {
          "base_uri": "https://localhost:8080/"
        },
        "id": "wQ1R3esHacVp",
        "outputId": "5e51756b-2784-4c33-9638-186d0454cf09"
      },
      "source": [
        "import nltk\n",
        "nltk.download('punkt')\n",
        "from nltk import word_tokenize"
      ],
      "execution_count": null,
      "outputs": [
        {
          "output_type": "stream",
          "name": "stdout",
          "text": [
            "[nltk_data] Downloading package punkt to /root/nltk_data...\n",
            "[nltk_data]   Unzipping tokenizers/punkt.zip.\n"
          ]
        }
      ]
    },
    {
      "cell_type": "code",
      "metadata": {
        "id": "8w5AxkqObNJA"
      },
      "source": [
        "texto = []\n",
        "\n",
        "for x in range(0, len(data)):\n",
        "  token_1 = data[x].lower()\n",
        "  token_2 = nltk.regexp_tokenize(token_1, pattern)\n",
        "  texto.append(token_2)"
      ],
      "execution_count": null,
      "outputs": []
    },
    {
      "cell_type": "code",
      "metadata": {
        "id": "WZV4TmZHbmFa"
      },
      "source": [
        "#texto es una lista de listas "
      ],
      "execution_count": null,
      "outputs": []
    },
    {
      "cell_type": "code",
      "metadata": {
        "id": "Qg2a3agEcAFQ"
      },
      "source": [
        "#texto"
      ],
      "execution_count": null,
      "outputs": []
    },
    {
      "cell_type": "code",
      "metadata": {
        "id": "ef-V26M_bnFW"
      },
      "source": [
        "flatten = [w for l in texto for w in l]"
      ],
      "execution_count": null,
      "outputs": []
    },
    {
      "cell_type": "code",
      "metadata": {
        "id": "OHrob5uKb0SP"
      },
      "source": [
        "import string\n",
        "puntuacion = list(string.punctuation)"
      ],
      "execution_count": null,
      "outputs": []
    },
    {
      "cell_type": "code",
      "metadata": {
        "colab": {
          "base_uri": "https://localhost:8080/"
        },
        "id": "i4eUVY1Mb7OF",
        "outputId": "89238b33-5f6f-47c8-9445-d28753865097"
      },
      "source": [
        "puntuacion"
      ],
      "execution_count": null,
      "outputs": [
        {
          "output_type": "execute_result",
          "data": {
            "text/plain": [
              "['!',\n",
              " '\"',\n",
              " '#',\n",
              " '$',\n",
              " '%',\n",
              " '&',\n",
              " \"'\",\n",
              " '(',\n",
              " ')',\n",
              " '*',\n",
              " '+',\n",
              " ',',\n",
              " '-',\n",
              " '.',\n",
              " '/',\n",
              " ':',\n",
              " ';',\n",
              " '<',\n",
              " '=',\n",
              " '>',\n",
              " '?',\n",
              " '@',\n",
              " '[',\n",
              " '\\\\',\n",
              " ']',\n",
              " '^',\n",
              " '_',\n",
              " '`',\n",
              " '{',\n",
              " '|',\n",
              " '}',\n",
              " '~']"
            ]
          },
          "metadata": {},
          "execution_count": 21
        }
      ]
    },
    {
      "cell_type": "code",
      "metadata": {
        "id": "Id8mbPHmb9Ml"
      },
      "source": [
        "puntuacion.append('https')\n",
        "puntuacion.append('co')\n",
        "puntuacion.append('t')"
      ],
      "execution_count": null,
      "outputs": []
    },
    {
      "cell_type": "code",
      "metadata": {
        "colab": {
          "base_uri": "https://localhost:8080/"
        },
        "id": "DrDZ9PDPcRZi",
        "outputId": "6351e0a0-227e-4928-e465-6e3db170aaa6"
      },
      "source": [
        "puntuacion"
      ],
      "execution_count": null,
      "outputs": [
        {
          "output_type": "execute_result",
          "data": {
            "text/plain": [
              "['!',\n",
              " '\"',\n",
              " '#',\n",
              " '$',\n",
              " '%',\n",
              " '&',\n",
              " \"'\",\n",
              " '(',\n",
              " ')',\n",
              " '*',\n",
              " '+',\n",
              " ',',\n",
              " '-',\n",
              " '.',\n",
              " '/',\n",
              " ':',\n",
              " ';',\n",
              " '<',\n",
              " '=',\n",
              " '>',\n",
              " '?',\n",
              " '@',\n",
              " '[',\n",
              " '\\\\',\n",
              " ']',\n",
              " '^',\n",
              " '_',\n",
              " '`',\n",
              " '{',\n",
              " '|',\n",
              " '}',\n",
              " '~',\n",
              " 'https',\n",
              " 'co',\n",
              " 't']"
            ]
          },
          "metadata": {},
          "execution_count": 28
        }
      ]
    },
    {
      "cell_type": "code",
      "metadata": {
        "colab": {
          "base_uri": "https://localhost:8080/"
        },
        "id": "der1Z0BNcXgW",
        "outputId": "80075ea7-44fe-40ba-da8d-bb7893e43c5b"
      },
      "source": [
        "nltk.download('stopwords')\n",
        "stop_words_n = nltk.corpus.stopwords.words('spanish')"
      ],
      "execution_count": null,
      "outputs": [
        {
          "output_type": "stream",
          "name": "stdout",
          "text": [
            "[nltk_data] Downloading package stopwords to /root/nltk_data...\n",
            "[nltk_data]   Unzipping corpora/stopwords.zip.\n"
          ]
        }
      ]
    },
    {
      "cell_type": "code",
      "metadata": {
        "id": "BPQ2s5nFcx_f"
      },
      "source": [
        "df_2 = [w for w in flatten if w not in stop_words_n]"
      ],
      "execution_count": null,
      "outputs": []
    },
    {
      "cell_type": "code",
      "metadata": {
        "id": "fdZr3c4Sc__W"
      },
      "source": [
        "df_3 = [w for w in df_2 if w not in puntuacion]"
      ],
      "execution_count": null,
      "outputs": []
    },
    {
      "cell_type": "code",
      "metadata": {
        "id": "AeJqPmEQdFiV"
      },
      "source": [
        "freq_words = nltk.FreqDist(df_3)"
      ],
      "execution_count": null,
      "outputs": []
    },
    {
      "cell_type": "code",
      "metadata": {
        "colab": {
          "base_uri": "https://localhost:8080/"
        },
        "id": "smu5U9XCdM99",
        "outputId": "9900557d-8f0d-4b98-f2cc-32d7f749b8c5"
      },
      "source": [
        "freq_words.most_common(15)"
      ],
      "execution_count": null,
      "outputs": [
        {
          "output_type": "execute_result",
          "data": {
            "text/plain": [
              "[('black', 28),\n",
              " ('friday', 28),\n",
              " ('semana', 5),\n",
              " ('descuento', 4),\n",
              " ('2021', 4),\n",
              " ('ofertas', 4),\n",
              " ('hogar', 4),\n",
              " ('menos', 3),\n",
              " ('viernes', 3),\n",
              " ('10', 3),\n",
              " ('si', 3),\n",
              " ('monta', 3),\n",
              " ('conectado', 3),\n",
              " ('completo', 3),\n",
              " ('compatible', 3)]"
            ]
          },
          "metadata": {},
          "execution_count": 33
        }
      ]
    },
    {
      "cell_type": "code",
      "metadata": {
        "id": "QD9SSIk8dQ2B"
      },
      "source": [
        "omitir_palabras = ['black','friday','2021','ofertas','semana']"
      ],
      "execution_count": null,
      "outputs": []
    },
    {
      "cell_type": "code",
      "metadata": {
        "id": "omnXYfMSdeVW"
      },
      "source": [
        "df_4 =  [w for w in df_3 if w not in omitir_palabras]"
      ],
      "execution_count": null,
      "outputs": []
    },
    {
      "cell_type": "code",
      "metadata": {
        "id": "5up2DDpvdkW2"
      },
      "source": [
        "freq_words = nltk.FreqDist(df_4)"
      ],
      "execution_count": null,
      "outputs": []
    },
    {
      "cell_type": "code",
      "metadata": {
        "colab": {
          "base_uri": "https://localhost:8080/"
        },
        "id": "Mpfuj9mCdneH",
        "outputId": "c6c30171-8576-44f3-ff35-d2793aa06046"
      },
      "source": [
        "freq_words.most_common(15)"
      ],
      "execution_count": null,
      "outputs": [
        {
          "output_type": "execute_result",
          "data": {
            "text/plain": [
              "[('descuento', 4),\n",
              " ('hogar', 4),\n",
              " ('menos', 3),\n",
              " ('viernes', 3),\n",
              " ('10', 3),\n",
              " ('si', 3),\n",
              " ('monta', 3),\n",
              " ('conectado', 3),\n",
              " ('completo', 3),\n",
              " ('compatible', 3),\n",
              " ('apple', 3),\n",
              " ('homekit', 3),\n",
              " ('15', 2),\n",
              " ('26', 2),\n",
              " ('27', 2)]"
            ]
          },
          "metadata": {},
          "execution_count": 37
        }
      ]
    },
    {
      "cell_type": "code",
      "metadata": {
        "id": "GUC2ZRyGdo8m"
      },
      "source": [
        "from wordcloud import WordCloud\n",
        "import matplotlib.pyplot as plt"
      ],
      "execution_count": null,
      "outputs": []
    },
    {
      "cell_type": "code",
      "metadata": {
        "colab": {
          "base_uri": "https://localhost:8080/",
          "height": 198
        },
        "id": "NO4PNlhgeRyt",
        "outputId": "2a5fb391-c8c5-44c2-bf38-ca13acb57ced"
      },
      "source": [
        "wordcloud = WordCloud(background_color='white', collocations=False, max_words=30).fit_words(freq_words)\n",
        "plt.imshow(wordcloud, interpolation='bilinear')\n",
        "plt.axis('off')\n",
        "plt.show()"
      ],
      "execution_count": null,
      "outputs": [
        {
          "output_type": "display_data",
          "data": {
            "image/png": "[encoded data removed]",
            "text/plain": [
              "<Figure size 432x288 with 1 Axes>"
            ]
          },
          "metadata": {
            "needs_background": "light"
          }
        }
      ]
    }
  ]
}