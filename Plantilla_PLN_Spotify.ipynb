{
  "nbformat": 4,
  "nbformat_minor": 0,
  "metadata": {
    "colab": {
      "name": "Plantilla_PLN_Spotify",
      "provenance": [],
      "include_colab_link": true
    },
    "kernelspec": {
      "name": "python3",
      "display_name": "Python 3"
    },
    "language_info": {
      "name": "python"
    }
  },
  "cells": [
    {
      "cell_type": "markdown",
      "metadata": {
        "id": "view-in-github",
        "colab_type": "text"
      },
      "source": [
        "<a href=\"https://colab.research.google.com/github/fridaruh/Curso_Intro_AI_Crehana/blob/master/Plantilla_PLN_Spotify.ipynb\" target=\"_parent\"><img src=\"https://colab.research.google.com/assets/colab-badge.svg\" alt=\"Open In Colab\"/></a>"
      ]
    },
    {
      "cell_type": "markdown",
      "metadata": {
        "id": "YNtf59igZYK4"
      },
      "source": [
        "Importa el archivo de datos de Spotify"
      ]
    },
    {
      "cell_type": "code",
      "metadata": {
        "id": "A4zPEj3qY-Te"
      },
      "source": [
        ""
      ],
      "execution_count": null,
      "outputs": []
    },
    {
      "cell_type": "markdown",
      "metadata": {
        "id": "Yp4SOjcQGtXl"
      },
      "source": [
        "Visualiza los primeros 5 registros"
      ]
    },
    {
      "cell_type": "code",
      "metadata": {
        "id": "OKtSg-yiZrZy"
      },
      "source": [
        ""
      ],
      "execution_count": null,
      "outputs": []
    },
    {
      "cell_type": "markdown",
      "metadata": {
        "id": "hR2rjfqjZ7-8"
      },
      "source": [
        "Convierte los tweets a listas"
      ]
    },
    {
      "cell_type": "code",
      "metadata": {
        "id": "aZ6Q5lpQZstP"
      },
      "source": [
        ""
      ],
      "execution_count": null,
      "outputs": []
    },
    {
      "cell_type": "markdown",
      "metadata": {
        "id": "S00dAjUwHBPz"
      },
      "source": [
        "Ejecuta el patrón"
      ]
    },
    {
      "cell_type": "code",
      "metadata": {
        "id": "YERcfSWNaCLW"
      },
      "source": [
        "pattern = r'''(?x)                  # Flag para iniciar el modo verbose\n",
        "              (?:[A-Z]\\.)+          # Hace match con abreviaciones como U.S.A.\n",
        "              | \\w+(?:-\\w+)*        # Hace match con palabras que pueden tener un guión interno\n",
        "              | \\$?\\d+(?:\\.\\d+)?%?  # Hace match con dinero o porcentajes como $15.5 o 100%\n",
        "              | \\.\\.\\.              # Hace match con puntos suspensivos\n",
        "              | [][.,;\"'?():-_`]    # Hace match con signos de puntuación\n",
        "'''"
      ],
      "execution_count": null,
      "outputs": []
    },
    {
      "cell_type": "markdown",
      "metadata": {
        "id": "XJuaJzStHDGR"
      },
      "source": [
        "Importa nltk, y el tokenizador"
      ]
    },
    {
      "cell_type": "code",
      "metadata": {
        "id": "wQ1R3esHacVp"
      },
      "source": [
        ""
      ],
      "execution_count": null,
      "outputs": []
    },
    {
      "cell_type": "markdown",
      "metadata": {
        "id": "XR-RT4YBHHKW"
      },
      "source": [
        "Genera un vector vacío y un ciclo for que:\n",
        "\n",
        "*   Conviérta a minúsculas las palabras\n",
        "*   Tokenize los tweets y los pase por el patrón\n",
        "*   Pegue los tokens en el vector vacío\n",
        "\n",
        "\n",
        "\n"
      ]
    },
    {
      "cell_type": "code",
      "metadata": {
        "id": "8w5AxkqObNJA"
      },
      "source": [
        ""
      ],
      "execution_count": null,
      "outputs": []
    },
    {
      "cell_type": "markdown",
      "metadata": {
        "id": "pBk1yCeNHcGe"
      },
      "source": [
        "\"Aplana\" la lista de listas para que se convierta a **una sola** lista"
      ]
    },
    {
      "cell_type": "code",
      "metadata": {
        "id": "ef-V26M_bnFW"
      },
      "source": [
        ""
      ],
      "execution_count": null,
      "outputs": []
    },
    {
      "cell_type": "markdown",
      "metadata": {
        "id": "M8X1BLfxHian"
      },
      "source": [
        "Importa la librería de string y convierte los signos de puntuación a una lista"
      ]
    },
    {
      "cell_type": "code",
      "metadata": {
        "id": "OHrob5uKb0SP"
      },
      "source": [
        ""
      ],
      "execution_count": null,
      "outputs": []
    },
    {
      "cell_type": "markdown",
      "metadata": {
        "id": "34eWDfWkHoix"
      },
      "source": [
        "Descarga la lista de stopwords en español"
      ]
    },
    {
      "cell_type": "code",
      "metadata": {
        "id": "der1Z0BNcXgW"
      },
      "source": [
        ""
      ],
      "execution_count": null,
      "outputs": []
    },
    {
      "cell_type": "markdown",
      "metadata": {
        "id": "7xFVy1v1HsgM"
      },
      "source": [
        "Genera una nueva variable donde pase por un ciclo for para eliminar las stop words"
      ]
    },
    {
      "cell_type": "code",
      "metadata": {
        "id": "BPQ2s5nFcx_f"
      },
      "source": [
        ""
      ],
      "execution_count": null,
      "outputs": []
    },
    {
      "cell_type": "markdown",
      "metadata": {
        "id": "lh9m3YcRH0FH"
      },
      "source": [
        "Genera una nueva variable donde pase por un ciclo for para eliminar los signos de puntuación"
      ]
    },
    {
      "cell_type": "code",
      "metadata": {
        "id": "fdZr3c4Sc__W"
      },
      "source": [
        ""
      ],
      "execution_count": null,
      "outputs": []
    },
    {
      "cell_type": "markdown",
      "metadata": {
        "id": "pwS9_iwHH4GS"
      },
      "source": [
        "Calcula con la función FreqDist la frecuencia de las palabras y almacenalos en una variable"
      ]
    },
    {
      "cell_type": "code",
      "metadata": {
        "id": "AeJqPmEQdFiV"
      },
      "source": [
        ""
      ],
      "execution_count": null,
      "outputs": []
    },
    {
      "cell_type": "markdown",
      "metadata": {
        "id": "oEJ2kXpUH-ZK"
      },
      "source": [
        "Imprime las 20 palabras más comunes"
      ]
    },
    {
      "cell_type": "code",
      "metadata": {
        "id": "smu5U9XCdM99"
      },
      "source": [
        ""
      ],
      "execution_count": null,
      "outputs": []
    },
    {
      "cell_type": "markdown",
      "metadata": {
        "id": "I36KAFENICML"
      },
      "source": [
        "Si crees que es necesario genera una lista de palabras a omitir"
      ]
    },
    {
      "cell_type": "code",
      "metadata": {
        "id": "QD9SSIk8dQ2B"
      },
      "source": [
        ""
      ],
      "execution_count": null,
      "outputs": []
    },
    {
      "cell_type": "markdown",
      "metadata": {
        "id": "ocI2q0n9IGip"
      },
      "source": [
        "Corre un ciclo for para omitir las palabras de nuestra lista"
      ]
    },
    {
      "cell_type": "code",
      "metadata": {
        "id": "omnXYfMSdeVW"
      },
      "source": [
        ""
      ],
      "execution_count": null,
      "outputs": []
    },
    {
      "cell_type": "markdown",
      "metadata": {
        "id": "jWJ36SXWIKU7"
      },
      "source": [
        "Calcula nuevamente las frecuencias de las palabras"
      ]
    },
    {
      "cell_type": "code",
      "metadata": {
        "id": "5up2DDpvdkW2"
      },
      "source": [
        ""
      ],
      "execution_count": null,
      "outputs": []
    },
    {
      "cell_type": "markdown",
      "metadata": {
        "id": "PeUUE5qJIN_I"
      },
      "source": [
        "Imprime las 20 palabras más comunes"
      ]
    },
    {
      "cell_type": "code",
      "metadata": {
        "id": "Mpfuj9mCdneH"
      },
      "source": [
        ""
      ],
      "execution_count": null,
      "outputs": []
    },
    {
      "cell_type": "markdown",
      "metadata": {
        "id": "tp9XjXubISRX"
      },
      "source": [
        "Importa las librerías para generar la nube de palabras y poder visualizarlas"
      ]
    },
    {
      "cell_type": "code",
      "metadata": {
        "id": "GUC2ZRyGdo8m"
      },
      "source": [
        ""
      ],
      "execution_count": null,
      "outputs": []
    },
    {
      "cell_type": "markdown",
      "metadata": {
        "id": "8QOZAJlXIW1g"
      },
      "source": [
        "Genera la gráfica de la nube de palabras"
      ]
    },
    {
      "cell_type": "code",
      "metadata": {
        "id": "NO4PNlhgeRyt"
      },
      "source": [
        ""
      ],
      "execution_count": null,
      "outputs": []
    }
  ]
}